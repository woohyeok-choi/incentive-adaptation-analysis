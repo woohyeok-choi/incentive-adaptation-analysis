{
 "cells": [
  {
   "cell_type": "code",
   "execution_count": 1,
   "id": "ff1572c9-35a1-4613-9b30-46b262f01017",
   "metadata": {},
   "outputs": [],
   "source": [
    "%load_ext rpy2.ipython"
   ]
  },
  {
   "cell_type": "code",
   "execution_count": 33,
   "id": "8b2e81e2-13c3-4360-a32f-5194c9281f92",
   "metadata": {},
   "outputs": [],
   "source": [
    "%%R\n",
    "\n",
    "library(tidyverse)\n",
    "library(showtext)\n",
    "library(extrafont)\n",
    "\n",
    "\n",
    "font_add(\n",
    "    family='Times New Roman',\n",
    "    regular='/usr/share/fonts/truetype/msttcorefonts/Times_New_Roman.ttf',\n",
    "    bold='/usr/share/fonts/truetype/msttcorefonts/Times_New_Roman_Bold.ttf'\n",
    ")\n",
    "    \n",
    "showtext_auto()\n",
    "\n",
    "THEME_DEFAULT <- theme_bw(\n",
    ") + theme(\n",
    "    axis.title.x=element_blank(),\n",
    "    axis.title.y=element_blank(),\n",
    "    axis.text.x=element_text(colour='grey20', size=20),\n",
    "    axis.text.y=element_blank()\n",
    ")"
   ]
  },
  {
   "cell_type": "code",
   "execution_count": 25,
   "id": "abe5a2a7-f1f2-4172-b8dc-af452a3a9cb6",
   "metadata": {},
   "outputs": [],
   "source": [
    "import pandas as pd\n",
    "import numpy as np\n",
    "\n",
    "\n",
    "X = pd.DataFrame(dict(x=np.arange(-5, 5, 0.01)))"
   ]
  },
  {
   "cell_type": "code",
   "execution_count": 26,
   "id": "e5f92fb5-41f1-4c4e-a396-61ac673ed558",
   "metadata": {},
   "outputs": [],
   "source": [
    "identity = X.assign(\n",
    "    y = lambda x: x['x']\n",
    ")\n",
    "step = X.assign(\n",
    "    y = lambda x: np.where(x['x'] < 0, 0, 1)\n",
    ")\n",
    "sigmoid = X.assign(\n",
    "    y = lambda x: 1 / (1 + np.exp(-x['x']))\n",
    ")\n",
    "tanh = X.assign(\n",
    "    y = lambda x: np.tanh(x['x'])\n",
    ")\n",
    "relu = X.assign(\n",
    "    y = lambda x: np.where(x['x'] < 0, 0, x['x'])\n",
    ")\n",
    "softlus = X.assign(\n",
    "    y = lambda x: np.log(1 + np.exp(x['x']))\n",
    ")"
   ]
  },
  {
   "cell_type": "code",
   "execution_count": 67,
   "id": "05654894-03e4-46c7-b167-6f9c864de9b2",
   "metadata": {},
   "outputs": [
    {
     "data": {
      "image/png": "[encoded data removed]",
      "text/plain": [
       "<IPython.core.display.Image object>"
      ]
     },
     "metadata": {},
     "output_type": "display_data"
    }
   ],
   "source": [
    "%%R -i identity -u cm -w 8 -h 6\n",
    "\n",
    "p <- ggplot(identity, aes(x=x, y=y)) + geom_line(\n",
    "    linewidth=1, colour='red'\n",
    ") + geom_vline(\n",
    "    xintercept=0, colour='grey'\n",
    ") + geom_hline(\n",
    "    yintercept=0, colour='grey'\n",
    ") + THEME_DEFAULT + ylim(-1, 1) + xlim(-1, 1)\n",
    "ggsave('activation-identity.png', unit='cm', height=6, width=8, plot=p)\n",
    "print(p)"
   ]
  },
  {
   "cell_type": "code",
   "execution_count": 68,
   "id": "be4bbb59-a8d7-423f-a01d-3ed9c4159626",
   "metadata": {},
   "outputs": [
    {
     "data": {
      "image/png": "[encoded data removed]",
      "text/plain": [
       "<IPython.core.display.Image object>"
      ]
     },
     "metadata": {},
     "output_type": "display_data"
    }
   ],
   "source": [
    "%%R -i step -u cm -w 8 -h 6\n",
    "\n",
    "p <- ggplot(step, aes(x=x, y=y)) + geom_line(\n",
    "    linewidth=1, colour='red'\n",
    ") + geom_vline(\n",
    "    xintercept=0, colour='grey'\n",
    ") + geom_hline(\n",
    "    yintercept=0, colour='grey'\n",
    ") + THEME_DEFAULT + ylim(-1, 1)\n",
    "ggsave('activation-step.png', unit='cm', height=6, width=8, plot=p)\n",
    "print(p)"
   ]
  },
  {
   "cell_type": "code",
   "execution_count": 69,
   "id": "7f454dc3-35ae-4896-a4fa-2743b4c19d39",
   "metadata": {},
   "outputs": [
    {
     "data": {
      "image/png": "[encoded data removed]",
      "text/plain": [
       "<IPython.core.display.Image object>"
      ]
     },
     "metadata": {},
     "output_type": "display_data"
    }
   ],
   "source": [
    "%%R -i sigmoid -u cm -w 8 -h 6\n",
    "\n",
    "p <- ggplot(sigmoid, aes(x=x, y=y)) + geom_line(\n",
    "    linewidth=1, colour='red'\n",
    ") + geom_vline(\n",
    "    xintercept=0, colour='grey'\n",
    ") + geom_hline(\n",
    "    yintercept=0, colour='grey'\n",
    ") + THEME_DEFAULT + ylim(-1, 1)\n",
    "ggsave('activation-sigmoid.png', unit='cm', height=6, width=8, plot=p)\n",
    "print(p)"
   ]
  },
  {
   "cell_type": "code",
   "execution_count": 70,
   "id": "160fab9b-f9f9-4a0a-a828-a019b93aa8cc",
   "metadata": {},
   "outputs": [
    {
     "data": {
      "image/png": "[encoded data removed]",
      "text/plain": [
       "<IPython.core.display.Image object>"
      ]
     },
     "metadata": {},
     "output_type": "display_data"
    }
   ],
   "source": [
    "%%R -i tanh -u cm -w 8 -h 6\n",
    "\n",
    "p <- ggplot(tanh, aes(x=x, y=y)) + geom_line(\n",
    "    linewidth=1, colour='red'\n",
    ") + geom_vline(\n",
    "    xintercept=0, colour='grey'\n",
    ") + geom_hline(\n",
    "    yintercept=0, colour='grey'\n",
    ") + THEME_DEFAULT + ylim(-1, 1)\n",
    "ggsave('activation-tanh.png', unit='cm', height=6, width=8, plot=p)\n",
    "print(p)"
   ]
  },
  {
   "cell_type": "code",
   "execution_count": 71,
   "id": "3b902985-a692-46cb-83eb-5abbed1cc0dd",
   "metadata": {},
   "outputs": [
    {
     "data": {
      "image/png": "[encoded data removed]",
      "text/plain": [
       "<IPython.core.display.Image object>"
      ]
     },
     "metadata": {},
     "output_type": "display_data"
    }
   ],
   "source": [
    "%%R -i relu -u cm -w 8 -h 6\n",
    "\n",
    "p <- ggplot(relu, aes(x=x, y=y)) + geom_line(\n",
    "    linewidth=1, colour='red'\n",
    ") + geom_vline(\n",
    "    xintercept=0, colour='grey'\n",
    ") + geom_hline(\n",
    "    yintercept=0, colour='grey'\n",
    ") + THEME_DEFAULT + ylim(-1, 1) + xlim(-1, 1)\n",
    "ggsave('activation-relu.png', unit='cm', height=6, width=8, plot=p)\n",
    "print(p)"
   ]
  },
  {
   "cell_type": "code",
   "execution_count": 72,
   "id": "fb160a3b-d3f2-408c-b486-200a962d905e",
   "metadata": {},
   "outputs": [
    {
     "data": {
      "image/png": "[encoded data removed]",
      "text/plain": [
       "<IPython.core.display.Image object>"
      ]
     },
     "metadata": {},
     "output_type": "display_data"
    }
   ],
   "source": [
    "%%R -i softlus -u cm -w 8 -h 6\n",
    "\n",
    "p <- ggplot(softlus, aes(x=x, y=y)) + geom_line(\n",
    "    linewidth=1, colour='red'\n",
    ") + geom_vline(\n",
    "    xintercept=0, colour='grey'\n",
    ") + geom_hline(\n",
    "    yintercept=0, colour='grey'\n",
    ") + THEME_DEFAULT + xlim(-2, 2) + ylim(0, 2)\n",
    "ggsave('activation-softlus.png', unit='cm', height=6, width=8, plot=p)\n",
    "print(p)"
   ]
  },
  {
   "cell_type": "code",
   "execution_count": 6,
   "id": "198980fb-a163-4982-881b-068be14c7a1d",
   "metadata": {},
   "outputs": [],
   "source": [
    "import pandas as pd\n",
    "import numpy as np\n",
    "\n",
    "\n",
    "X = pd.DataFrame(dict(x=np.arange(-15, 15, 0.01)))\n",
    "sigmoid = X.assign(\n",
    "    y = lambda x: 1 / (1 + np.exp(-x['x']))\n",
    ")"
   ]
  },
  {
   "cell_type": "code",
   "execution_count": 34,
   "id": "565587cc-c466-41cd-b40c-e40b543c68ce",
   "metadata": {},
   "outputs": [
    {
     "data": {
      "image/png": "[encoded data removed]",
      "text/plain": [
       "<IPython.core.display.Image object>"
      ]
     },
     "metadata": {},
     "output_type": "display_data"
    }
   ],
   "source": [
    "%%R -i sigmoid -u cm -w 8 -h 6\n",
    "\n",
    "p <- ggplot(sigmoid, aes(x=x, y=y)) + geom_line(\n",
    "    linewidth=1, colour='red'\n",
    ") + geom_vline(\n",
    "    xintercept=0, colour='grey'\n",
    ") + geom_hline(\n",
    "    yintercept=0, colour='grey'\n",
    ") + ylim(0, 1) + xlim(-10, 10) + annotate(\n",
    "    'text', x=-7, y=0.1, label = 'Saturating', size = 12\n",
    ") + annotate(\n",
    "    'text', x=7, y=0.9, label = 'Saturating', size = 12\n",
    ") + THEME_DEFAULT\n",
    "ggsave('saturation-sigmoid.png', unit='cm', height=6, width=8, plot=p)\n",
    "print(p)"
   ]
  },
  {
   "cell_type": "code",
   "execution_count": 361,
   "id": "7f314737-ca02-4581-98f2-b5bcca8aa05e",
   "metadata": {},
   "outputs": [],
   "source": [
    "import pandas as pd\n",
    "import numpy as np\n",
    "\n",
    "\n",
    "X = pd.DataFrame(dict(x=np.arange(-15, 15, 0.01)))\n",
    "relu = X.assign(\n",
    "    y = lambda x: np.where(x['x'] < 0, 0, x['x'])\n",
    ")"
   ]
  },
  {
   "cell_type": "code",
   "execution_count": 366,
   "id": "51c93733-4a71-47f3-ac09-41c126b03034",
   "metadata": {},
   "outputs": [
    {
     "data": {
      "image/png": "[encoded data removed]",
      "text/plain": [
       "<IPython.core.display.Image object>"
      ]
     },
     "metadata": {},
     "output_type": "display_data"
    }
   ],
   "source": [
    "%%R -i relu -u cm -w 8 -h 6\n",
    "\n",
    "p <- ggplot(relu, aes(x=x, y=y)) + geom_line(\n",
    "    linewidth=1, colour='red'\n",
    ") + geom_vline(\n",
    "    xintercept=0, colour='grey'\n",
    ") + geom_hline(\n",
    "    yintercept=0, colour='grey'\n",
    ") + annotate(\n",
    "    'text', x=-10, y=1, label = 'Saturating', size = 12\n",
    ") + THEME_DEFAULT\n",
    "ggsave('saturation-relu.png', unit='cm', height=6, width=8, plot=p)\n",
    "print(p)"
   ]
  },
  {
   "cell_type": "code",
   "execution_count": 65,
   "id": "d75e9a1a-5a1e-4c63-92bd-7a32829f1395",
   "metadata": {},
   "outputs": [],
   "source": [
    "import pandas as pd\n",
    "import numpy as np\n",
    "\n",
    "\n",
    "X = pd.DataFrame(dict(x=np.arange(-15, 15, 0.01)))\n",
    "X2 = X.assign(\n",
    "    y = lambda x: -np.sqrt(np.square(15) - np.square(x['x']))\n",
    ")"
   ]
  },
  {
   "cell_type": "code",
   "execution_count": 66,
   "id": "7b5546b1-e0b3-4a3f-8ef2-87596c141579",
   "metadata": {},
   "outputs": [
    {
     "data": {
      "image/png": "[encoded data removed]",
      "text/plain": [
       "<IPython.core.display.Image object>"
      ]
     },
     "metadata": {},
     "output_type": "display_data"
    }
   ],
   "source": [
    "%%R -i X2 -u cm -w 8 -h 6\n",
    "\n",
    "p <- ggplot(X2, aes(x=x, y=y)) + geom_line(\n",
    "    linewidth=1, colour='grey20'\n",
    ") + THEME_DEFAULT + theme(\n",
    "    axis.text.x=element_blank(),\n",
    ") + theme_void()\n",
    "ggsave('X2.png', unit='cm', height=6, width=8, plot=p)\n",
    "print(p)"
   ]
  },
  {
   "cell_type": "code",
   "execution_count": 95,
   "id": "82fed503-2e4a-4202-b357-02c3b0e6a768",
   "metadata": {},
   "outputs": [],
   "source": [
    "import pandas as pd\n",
    "import numpy as np\n",
    "\n",
    "X = pd.DataFrame(dict(x=np.arange(0.01, 1, 0.01)))\n",
    "X2 = X.assign(\n",
    "    y1 = lambda x: - np.log(x['x']),\n",
    "    y2 = lambda x: - np.log((1.0 - x['x']))\n",
    ")"
   ]
  },
  {
   "cell_type": "code",
   "execution_count": 128,
   "id": "41dcd571-7d63-4838-b844-bf70faf29c0b",
   "metadata": {},
   "outputs": [
    {
     "data": {
      "image/png": "[encoded data removed]",
      "text/plain": [
       "<IPython.core.display.Image object>"
      ]
     },
     "metadata": {},
     "output_type": "display_data"
    }
   ],
   "source": [
    "%%R -i X2 -u cm -w 8 -h 6\n",
    "\n",
    "p <- ggplot(X2, aes(x=x)) + geom_line(\n",
    "    aes(y=y1), linewidth=1, colour='firebrick2'\n",
    ") + geom_line(\n",
    "    aes(y=y2), linewidth=1, colour='royalblue2'\n",
    ") + annotate(\n",
    "    'text', label='y = 1', x=0.15, y=4, size=15\n",
    ") + annotate(\n",
    "    'text', label='y = 0', x=0.85, y=4, size=15\n",
    ")+ THEME_DEFAULT + theme(\n",
    "    axis.text.x=element_blank(),\n",
    ")\n",
    "ggsave('logloss.png', unit='cm', height=6, width=8, plot=p)\n",
    "print(p)"
   ]
  },
  {
   "cell_type": "code",
   "execution_count": 132,
   "id": "b7e73035-d35c-4a5a-8758-0289621c7c1d",
   "metadata": {},
   "outputs": [],
   "source": [
    "import pandas as pd\n",
    "import numpy as np\n",
    "\n",
    "X = pd.DataFrame(dict(x=np.arange(0.01, 1, 0.01)))\n",
    "X2 = X.assign(\n",
    "    y1 = lambda x: np.square(1 - x['x']),\n",
    "    y2 = lambda x: np.square(0 - x['x'])\n",
    ")"
   ]
  },
  {
   "cell_type": "code",
   "execution_count": 134,
   "id": "c760e222-4c92-40db-b33f-2d6e73ce9288",
   "metadata": {},
   "outputs": [
    {
     "data": {
      "image/png": "[encoded data removed]",
      "text/plain": [
       "<IPython.core.display.Image object>"
      ]
     },
     "metadata": {},
     "output_type": "display_data"
    }
   ],
   "source": [
    "%%R -i X2 -u cm -w 8 -h 6\n",
    "\n",
    "p <- ggplot(X2, aes(x=x)) + geom_line(\n",
    "    aes(y=y1), linewidth=1, colour='firebrick2'\n",
    ") + geom_line(\n",
    "    aes(y=y2), linewidth=1, colour='royalblue2'\n",
    ") + annotate(\n",
    "    'text', label='y = 1', x=0.15, y=1, size=15\n",
    ") + annotate(\n",
    "    'text', label='y = 0', x=0.85, y=1, size=15\n",
    ")+ THEME_DEFAULT + theme(\n",
    "    axis.text.x=element_blank(),\n",
    ")\n",
    "ggsave('mse.png', unit='cm', height=6, width=8, plot=p)\n",
    "print(p)"
   ]
  },
  {
   "cell_type": "code",
   "execution_count": 304,
   "id": "8063120c-dacb-4d44-87a8-d2788ba87068",
   "metadata": {},
   "outputs": [
    {
     "data": {
      "text/plain": [
       "count    299.000000\n",
       "mean       3.607611\n",
       "std        0.321639\n",
       "min        2.320204\n",
       "25%        3.444414\n",
       "50%        3.719595\n",
       "75%        3.862643\n",
       "max        3.908465\n",
       "Name: q4, dtype: float64"
      ]
     },
     "execution_count": 304,
     "metadata": {},
     "output_type": "execute_result"
    }
   ],
   "source": [
    "q1['q4'].describe()"
   ]
  },
  {
   "cell_type": "code",
   "execution_count": 342,
   "id": "f8f8820c-ed44-45c0-858c-2027b8930d96",
   "metadata": {},
   "outputs": [
    {
     "data": {
      "text/html": [
       "<div>\n",
       "<style scoped>\n",
       "    .dataframe tbody tr th:only-of-type {\n",
       "        vertical-align: middle;\n",
       "    }\n",
       "\n",
       "    .dataframe tbody tr th {\n",
       "        vertical-align: top;\n",
       "    }\n",
       "\n",
       "    .dataframe thead th {\n",
       "        text-align: right;\n",
       "    }\n",
       "</style>\n",
       "<table border=\"1\" class=\"dataframe\">\n",
       "  <thead>\n",
       "    <tr style=\"text-align: right;\">\n",
       "      <th></th>\n",
       "      <th>x</th>\n",
       "      <th>q4</th>\n",
       "    </tr>\n",
       "  </thead>\n",
       "  <tbody>\n",
       "    <tr>\n",
       "      <th>0</th>\n",
       "      <td>-1.00</td>\n",
       "      <td>0.000000</td>\n",
       "    </tr>\n",
       "    <tr>\n",
       "      <th>1</th>\n",
       "      <td>-0.99</td>\n",
       "      <td>0.141067</td>\n",
       "    </tr>\n",
       "    <tr>\n",
       "      <th>2</th>\n",
       "      <td>-0.98</td>\n",
       "      <td>0.198997</td>\n",
       "    </tr>\n",
       "    <tr>\n",
       "      <th>3</th>\n",
       "      <td>-0.97</td>\n",
       "      <td>0.243105</td>\n",
       "    </tr>\n",
       "    <tr>\n",
       "      <th>4</th>\n",
       "      <td>-0.96</td>\n",
       "      <td>0.280000</td>\n",
       "    </tr>\n",
       "    <tr>\n",
       "      <th>...</th>\n",
       "      <td>...</td>\n",
       "      <td>...</td>\n",
       "    </tr>\n",
       "    <tr>\n",
       "      <th>195</th>\n",
       "      <td>0.95</td>\n",
       "      <td>0.312250</td>\n",
       "    </tr>\n",
       "    <tr>\n",
       "      <th>196</th>\n",
       "      <td>0.96</td>\n",
       "      <td>0.280000</td>\n",
       "    </tr>\n",
       "    <tr>\n",
       "      <th>197</th>\n",
       "      <td>0.97</td>\n",
       "      <td>0.243105</td>\n",
       "    </tr>\n",
       "    <tr>\n",
       "      <th>198</th>\n",
       "      <td>0.98</td>\n",
       "      <td>0.198997</td>\n",
       "    </tr>\n",
       "    <tr>\n",
       "      <th>199</th>\n",
       "      <td>0.99</td>\n",
       "      <td>0.141067</td>\n",
       "    </tr>\n",
       "  </tbody>\n",
       "</table>\n",
       "<p>200 rows × 2 columns</p>\n",
       "</div>"
      ],
      "text/plain": [
       "        x        q4\n",
       "0   -1.00  0.000000\n",
       "1   -0.99  0.141067\n",
       "2   -0.98  0.198997\n",
       "3   -0.97  0.243105\n",
       "4   -0.96  0.280000\n",
       "..    ...       ...\n",
       "195  0.95  0.312250\n",
       "196  0.96  0.280000\n",
       "197  0.97  0.243105\n",
       "198  0.98  0.198997\n",
       "199  0.99  0.141067\n",
       "\n",
       "[200 rows x 2 columns]"
      ]
     },
     "execution_count": 342,
     "metadata": {},
     "output_type": "execute_result"
    }
   ],
   "source": [
    "q1[['x', 'q4']]"
   ]
  },
  {
   "cell_type": "code",
   "execution_count": 337,
   "id": "1b44fca8-cf08-42ee-926d-95899b82fbc2",
   "metadata": {},
   "outputs": [
    {
     "data": {
      "text/plain": [
       "0.14106735979665894"
      ]
     },
     "execution_count": 337,
     "metadata": {},
     "output_type": "execute_result"
    }
   ],
   "source": [
    "np.sqrt(1 - np.square(-0.99))"
   ]
  },
  {
   "cell_type": "code",
   "execution_count": 356,
   "id": "67dc70ae-bcec-4ab8-b70f-eee502d11a33",
   "metadata": {},
   "outputs": [],
   "source": [
    "X = pd.DataFrame(dict(x=np.arange(-5, 5, 0.01)))\n",
    "q1 = X.assign(\n",
    "    q1 = lambda x: 0.5 * np.square(x['x']),\n",
    "    q2 = lambda x: np.cos(x['x']) + np.sin(x['x']) ,\n",
    "    q3 = lambda x: np.sin(np.power(x['x'], 2)),\n",
    "    q4 = lambda x: np.power(np.power(x['x'], 2), 1/3) + np.sqrt((25 - np.square(x['x'])))\n",
    ")"
   ]
  },
  {
   "cell_type": "code",
   "execution_count": 358,
   "id": "02a5f83f-fa8b-4707-8165-d9a8f0378b19",
   "metadata": {},
   "outputs": [
    {
     "data": {
      "image/png": "[encoded data removed]",
      "text/plain": [
       "<IPython.core.display.Image object>"
      ]
     },
     "metadata": {},
     "output_type": "display_data"
    }
   ],
   "source": [
    "%%R -i q1 -u cm -w 6 -h 8\n",
    "\n",
    "p <- ggplot(\n",
    "    q1, aes(x=x, y=q1) \n",
    ") + geom_line() + THEME_DEFAULT + theme(\n",
    "    axis.text.x = element_blank()\n",
    ")\n",
    "ggsave('q1.png', unit='cm', height=6, width=6, plot=p)\n",
    "print(p)\n",
    "\n",
    "\n",
    "p <- ggplot(\n",
    "    q1, aes(x=x, y=q2) \n",
    ") + geom_line() + THEME_DEFAULT + theme(\n",
    "    axis.text.x = element_blank()\n",
    ")\n",
    "ggsave('q2.png', unit='cm', height=6, width=6, plot=p)\n",
    "print(p)\n",
    "\n",
    "\n",
    "p <- ggplot(\n",
    "    q1, aes(x=x, y=q3) \n",
    ") + geom_line() + THEME_DEFAULT + theme(\n",
    "    axis.text.x = element_blank()\n",
    ")\n",
    "ggsave('q3.png', unit='cm', height=6, width=6, plot=p)\n",
    "print(p)\n",
    "\n",
    "\n",
    "p <- ggplot(\n",
    "    q1, aes(x=x, y=q4) \n",
    ") + geom_line() + THEME_DEFAULT + theme(\n",
    "    axis.text.x = element_blank()\n",
    ")\n",
    "ggsave('q4.png', unit='cm', height=6, width=6, plot=p)\n",
    "print(p)"
   ]
  },
  {
   "cell_type": "code",
   "execution_count": 413,
   "id": "8c96fa3f-f071-4642-9d97-0885bac14b34",
   "metadata": {},
   "outputs": [
    {
     "data": {
      "text/plain": [
       "0       -0.749966\n",
       "1       -0.749966\n",
       "2       -0.749965\n",
       "3       -0.749965\n",
       "4       -0.749965\n",
       "          ...    \n",
       "1995    14.925000\n",
       "1996    14.940000\n",
       "1997    14.955000\n",
       "1998    14.970000\n",
       "1999    14.985000\n",
       "Name: selu, Length: 2000, dtype: float64"
      ]
     },
     "execution_count": 413,
     "metadata": {},
     "output_type": "execute_result"
    }
   ],
   "source": [
    "X['selu']"
   ]
  },
  {
   "cell_type": "code",
   "execution_count": 414,
   "id": "c9a7eadc-285c-46db-a9e7-84a4d7c6a1f7",
   "metadata": {},
   "outputs": [
    {
     "data": {
      "text/plain": [
       "0      -0.499977\n",
       "1      -0.499977\n",
       "2      -0.499977\n",
       "3      -0.499977\n",
       "4      -0.499976\n",
       "          ...   \n",
       "1995    9.950000\n",
       "1996    9.960000\n",
       "1997    9.970000\n",
       "1998    9.980000\n",
       "1999    9.990000\n",
       "Name: elu, Length: 2000, dtype: float64"
      ]
     },
     "execution_count": 414,
     "metadata": {},
     "output_type": "execute_result"
    }
   ],
   "source": [
    "X['elu']"
   ]
  },
  {
   "cell_type": "code",
   "execution_count": 426,
   "id": "0cecf83f-0726-4a30-b0fa-ffe5ccf995b4",
   "metadata": {},
   "outputs": [],
   "source": [
    "\n",
    "a = .3\n",
    "s = 2\n",
    "X = pd.DataFrame(dict(x=np.arange(-10, 10, 0.01))).assign(\n",
    "    relu=lambda x: np.where(x['x'] >= 0, x['x'], 0) ,\n",
    "    leaky=lambda x: np.where(x['x'] >= 0, x['x'], a * x['x']),\n",
    "    elu=lambda x: np.where(x['x'] >= 0, x['x'], a * (np.exp(x['x']) - 1)),\n",
    "    selu=lambda x: np.where(x['x'] >= 0, s * x['x'], s * a * (np.exp(x['x']) - 1)),\n",
    ")\n"
   ]
  },
  {
   "cell_type": "code",
   "execution_count": 425,
   "id": "5c10a92d-0647-4728-a933-e0f050e637e1",
   "metadata": {},
   "outputs": [
    {
     "data": {
      "image/png": "[encoded data removed]",
      "text/plain": [
       "<IPython.core.display.Image object>"
      ]
     },
     "metadata": {},
     "output_type": "display_data"
    }
   ],
   "source": [
    "%%R -i X -u cm -w 8 -h 6\n",
    "\n",
    "p <- ggplot(X, aes(x=x, y=relu)) + geom_line(\n",
    "    linewidth=1, colour='red'\n",
    ") + geom_vline(\n",
    "    xintercept=0, colour='grey'\n",
    ") + geom_hline(\n",
    "    yintercept=0, colour='grey'\n",
    ") + THEME_DEFAULT + theme(\n",
    "    axis.text.x = element_blank()\n",
    ") + ylim(0, 5)\n",
    "ggsave('relu-vanila.png', unit='cm', height=6, width=8, plot=p)\n",
    "print(p)\n",
    "\n",
    "p <- ggplot(X, aes(x=x, y=leaky)) + geom_line(\n",
    "    linewidth=1, colour='red'\n",
    ") + geom_vline(\n",
    "    xintercept=0, colour='grey'\n",
    ") + geom_hline(\n",
    "    yintercept=0, colour='grey'\n",
    ") + THEME_DEFAULT + theme(\n",
    "    axis.text.x = element_blank()\n",
    ") + ylim(-3, 5)\n",
    "ggsave('relu-leaky.png', unit='cm', height=6, width=8, plot=p)\n",
    "print(p)\n",
    "\n",
    "p <- ggplot(X, aes(x=x, y=elu)) + geom_line(\n",
    "    linewidth=1, colour='red'\n",
    ") + geom_vline(\n",
    "    xintercept=0, colour='grey'\n",
    ") + geom_hline(\n",
    "    yintercept=0, colour='grey'\n",
    ") + THEME_DEFAULT + theme(\n",
    "    axis.text.x = element_blank()\n",
    ") + ylim(-3, 5)\n",
    "ggsave('relu-elu.png', unit='cm', height=6, width=8, plot=p)\n",
    "print(p)\n",
    "\n",
    "p <- ggplot(X, aes(x=x, y=selu)) + geom_line(\n",
    "    linewidth=1, colour='red'\n",
    ") + geom_vline(\n",
    "    xintercept=0, colour='grey'\n",
    ") + geom_hline(\n",
    "    yintercept=0, colour='grey'\n",
    ") + THEME_DEFAULT + theme(\n",
    "    axis.text.x = element_blank()\n",
    ") + ylim(-3, 5)\n",
    "ggsave('relu-selu.png', unit='cm', height=6, width=8, plot=p)\n",
    "print(p)"
   ]
  },
  {
   "cell_type": "code",
   "execution_count": 29,
   "id": "3704c1e3-eda5-42a2-a7ef-1e81798c4db5",
   "metadata": {},
   "outputs": [],
   "source": [
    "import pandas as pd\n",
    "import numpy as np\n",
    "\n",
    "\n",
    "d = pd.read_csv('./HomeworkScore - Lab11 (HW09).csv').set_index('StudentID')\n",
    "\n",
    "with open('./test.txt', mode='w') as f:\n",
    "    for i in d.index:\n",
    "        q1 = d.loc[i, \"10-Fold CV Remark\"]\n",
    "        q1_grade = d.loc[i, \"10-Fold CV\"]\n",
    "        q2 = d.loc[i, \"Model Definition Remark\"]\n",
    "        q2_grade = d.loc[i, \"Model Definition\"]\n",
    "        q3 = d.loc[i, \"Loss and Optimizer Remark\"]\n",
    "        q3_grade = d.loc[i, \"Loss and Optimizer\"]\n",
    "        q4 = d.loc[i, \"Perf. Measure Remark\"]\n",
    "        q4_grade = d.loc[i, \"Perf. Measure\"]\n",
    "        \n",
    "        f.write(f'''\n",
    "{i}\n",
    "- 10-Fold CV ({q1_grade}/0.25 pt): {q1 if type(q1) == str else 'Good!'}\n",
    "- Model Definition ({q2_grade}/1.5 pt): {q2 if type(q2) == str else 'Good!'}\n",
    "- Loss function and Optimizer ({q3_grade}/0.5 pt): {q3 if type(q3) == str else 'Good!'}\n",
    "- Performance Measures ({q4_grade}/0.75 pt): {q4 if type(q4) == str else 'Good!'}\n",
    "        ''')\n",
    "        \n",
    "    "
   ]
  },
  {
   "cell_type": "code",
   "execution_count": 27,
   "id": "b3218d6b-7d63-44ab-92e2-e808abbe12e5",
   "metadata": {},
   "outputs": [
    {
     "data": {
      "text/html": [
       "<div>\n",
       "<style scoped>\n",
       "    .dataframe tbody tr th:only-of-type {\n",
       "        vertical-align: middle;\n",
       "    }\n",
       "\n",
       "    .dataframe tbody tr th {\n",
       "        vertical-align: top;\n",
       "    }\n",
       "\n",
       "    .dataframe thead th {\n",
       "        text-align: right;\n",
       "    }\n",
       "</style>\n",
       "<table border=\"1\" class=\"dataframe\">\n",
       "  <thead>\n",
       "    <tr style=\"text-align: right;\">\n",
       "      <th></th>\n",
       "      <th>StudentName</th>\n",
       "      <th>10-Fold CV</th>\n",
       "      <th>10-Fold CV Remark</th>\n",
       "      <th>Model Definition</th>\n",
       "      <th>Model Definition Remark</th>\n",
       "      <th>Loss and Optimizer</th>\n",
       "      <th>Loss and Optimizer Remark</th>\n",
       "      <th>Perf. Measure</th>\n",
       "      <th>Perf. Measure Remark</th>\n",
       "      <th>Sum</th>\n",
       "    </tr>\n",
       "    <tr>\n",
       "      <th>StudentID</th>\n",
       "      <th></th>\n",
       "      <th></th>\n",
       "      <th></th>\n",
       "      <th></th>\n",
       "      <th></th>\n",
       "      <th></th>\n",
       "      <th></th>\n",
       "      <th></th>\n",
       "      <th></th>\n",
       "      <th></th>\n",
       "    </tr>\n",
       "  </thead>\n",
       "  <tbody>\n",
       "    <tr>\n",
       "      <th>20170348</th>\n",
       "      <td>Sihyeon Song</td>\n",
       "      <td>0.00</td>\n",
       "      <td>While correctly defining a 10-Fold CV, you con...</td>\n",
       "      <td>1.50</td>\n",
       "      <td>NaN</td>\n",
       "      <td>0.5</td>\n",
       "      <td>NaN</td>\n",
       "      <td>0.25</td>\n",
       "      <td>When calculating logistic loss, you put predic...</td>\n",
       "      <td>2.25</td>\n",
       "    </tr>\n",
       "    <tr>\n",
       "      <th>20190387</th>\n",
       "      <td>NAYOUNG OH</td>\n",
       "      <td>0.25</td>\n",
       "      <td>NaN</td>\n",
       "      <td>1.50</td>\n",
       "      <td>NaN</td>\n",
       "      <td>0.5</td>\n",
       "      <td>NaN</td>\n",
       "      <td>0.75</td>\n",
       "      <td>NaN</td>\n",
       "      <td>3.00</td>\n",
       "    </tr>\n",
       "    <tr>\n",
       "      <th>20190511</th>\n",
       "      <td>Jinseo Lee</td>\n",
       "      <td>0.00</td>\n",
       "      <td>The instruction required you to conduct a 10-f...</td>\n",
       "      <td>1.25</td>\n",
       "      <td>The instruction required you to use the parame...</td>\n",
       "      <td>0.5</td>\n",
       "      <td>NaN</td>\n",
       "      <td>0.75</td>\n",
       "      <td>NaN</td>\n",
       "      <td>2.50</td>\n",
       "    </tr>\n",
       "    <tr>\n",
       "      <th>20205642</th>\n",
       "      <td>PATARA TRIRAT</td>\n",
       "      <td>0.25</td>\n",
       "      <td>NaN</td>\n",
       "      <td>1.50</td>\n",
       "      <td>NaN</td>\n",
       "      <td>0.5</td>\n",
       "      <td>NaN</td>\n",
       "      <td>0.75</td>\n",
       "      <td>NaN</td>\n",
       "      <td>3.00</td>\n",
       "    </tr>\n",
       "    <tr>\n",
       "      <th>20223307</th>\n",
       "      <td>Minju Baeck</td>\n",
       "      <td>0.25</td>\n",
       "      <td>NaN</td>\n",
       "      <td>1.50</td>\n",
       "      <td>NaN</td>\n",
       "      <td>0.5</td>\n",
       "      <td>NaN</td>\n",
       "      <td>0.75</td>\n",
       "      <td>NaN</td>\n",
       "      <td>3.00</td>\n",
       "    </tr>\n",
       "    <tr>\n",
       "      <th>20223488</th>\n",
       "      <td>Yohan Lee</td>\n",
       "      <td>0.25</td>\n",
       "      <td>NaN</td>\n",
       "      <td>1.50</td>\n",
       "      <td>NaN</td>\n",
       "      <td>0.5</td>\n",
       "      <td>NaN</td>\n",
       "      <td>0.50</td>\n",
       "      <td>When calculating logistic loss, you put predic...</td>\n",
       "      <td>2.75</td>\n",
       "    </tr>\n",
       "    <tr>\n",
       "      <th>20224492</th>\n",
       "      <td>IN JAE SONG</td>\n",
       "      <td>0.25</td>\n",
       "      <td>NaN</td>\n",
       "      <td>1.25</td>\n",
       "      <td>The instruction required you to use the parame...</td>\n",
       "      <td>0.5</td>\n",
       "      <td>NaN</td>\n",
       "      <td>0.50</td>\n",
       "      <td>When calculating logistic loss, you put predic...</td>\n",
       "      <td>2.50</td>\n",
       "    </tr>\n",
       "    <tr>\n",
       "      <th>20224794</th>\n",
       "      <td>Junhyeok Park</td>\n",
       "      <td>0.25</td>\n",
       "      <td>NaN</td>\n",
       "      <td>1.50</td>\n",
       "      <td>NaN</td>\n",
       "      <td>0.5</td>\n",
       "      <td>NaN</td>\n",
       "      <td>0.75</td>\n",
       "      <td>NaN</td>\n",
       "      <td>3.00</td>\n",
       "    </tr>\n",
       "    <tr>\n",
       "      <th>20226497</th>\n",
       "      <td>Elena Ursula IMMEN</td>\n",
       "      <td>0.25</td>\n",
       "      <td>NaN</td>\n",
       "      <td>1.50</td>\n",
       "      <td>NaN</td>\n",
       "      <td>0.5</td>\n",
       "      <td>NaN</td>\n",
       "      <td>0.75</td>\n",
       "      <td>NaN</td>\n",
       "      <td>3.00</td>\n",
       "    </tr>\n",
       "    <tr>\n",
       "      <th>20227029</th>\n",
       "      <td>Seungwoo Shim</td>\n",
       "      <td>0.00</td>\n",
       "      <td>The instruction required you to conduct a 10-f...</td>\n",
       "      <td>1.50</td>\n",
       "      <td>NaN</td>\n",
       "      <td>0.5</td>\n",
       "      <td>NaN</td>\n",
       "      <td>0.50</td>\n",
       "      <td>You calculated the macro-averaged F1 score; bu...</td>\n",
       "      <td>2.50</td>\n",
       "    </tr>\n",
       "    <tr>\n",
       "      <th>20233301</th>\n",
       "      <td>SUBIN PARK</td>\n",
       "      <td>0.25</td>\n",
       "      <td>NaN</td>\n",
       "      <td>1.00</td>\n",
       "      <td>The instruction required you to build 3 hidden...</td>\n",
       "      <td>0.5</td>\n",
       "      <td>NaN</td>\n",
       "      <td>0.75</td>\n",
       "      <td>NaN</td>\n",
       "      <td>2.50</td>\n",
       "    </tr>\n",
       "    <tr>\n",
       "      <th>20233344</th>\n",
       "      <td>Hye Soo Park</td>\n",
       "      <td>0.25</td>\n",
       "      <td>NaN</td>\n",
       "      <td>1.25</td>\n",
       "      <td>You specified an additional layer with two per...</td>\n",
       "      <td>0.5</td>\n",
       "      <td>NaN</td>\n",
       "      <td>0.75</td>\n",
       "      <td>NaN</td>\n",
       "      <td>2.75</td>\n",
       "    </tr>\n",
       "    <tr>\n",
       "      <th>20233629</th>\n",
       "      <td>HEEJEONG LIM</td>\n",
       "      <td>0.25</td>\n",
       "      <td>NaN</td>\n",
       "      <td>1.50</td>\n",
       "      <td>NaN</td>\n",
       "      <td>0.5</td>\n",
       "      <td>NaN</td>\n",
       "      <td>0.50</td>\n",
       "      <td>When calculating logistic loss, you put predic...</td>\n",
       "      <td>2.75</td>\n",
       "    </tr>\n",
       "    <tr>\n",
       "      <th>20233674</th>\n",
       "      <td>Eunki Joung</td>\n",
       "      <td>0.25</td>\n",
       "      <td>NaN</td>\n",
       "      <td>1.50</td>\n",
       "      <td>NaN</td>\n",
       "      <td>0.5</td>\n",
       "      <td>NaN</td>\n",
       "      <td>0.50</td>\n",
       "      <td>When calculating logistic loss, you put predic...</td>\n",
       "      <td>2.75</td>\n",
       "    </tr>\n",
       "    <tr>\n",
       "      <th>20235189</th>\n",
       "      <td>Eunhwa Song</td>\n",
       "      <td>0.25</td>\n",
       "      <td>NaN</td>\n",
       "      <td>1.50</td>\n",
       "      <td>NaN</td>\n",
       "      <td>0.5</td>\n",
       "      <td>NaN</td>\n",
       "      <td>0.50</td>\n",
       "      <td>When calculating logistic loss, you put predic...</td>\n",
       "      <td>2.75</td>\n",
       "    </tr>\n",
       "    <tr>\n",
       "      <th>20235290</th>\n",
       "      <td>Tae-Hoon Lee</td>\n",
       "      <td>0.25</td>\n",
       "      <td>NaN</td>\n",
       "      <td>1.50</td>\n",
       "      <td>NaN</td>\n",
       "      <td>0.5</td>\n",
       "      <td>NaN</td>\n",
       "      <td>0.50</td>\n",
       "      <td>When calculating logistic loss, you put predic...</td>\n",
       "      <td>2.75</td>\n",
       "    </tr>\n",
       "    <tr>\n",
       "      <th>20236005</th>\n",
       "      <td>Theo Jeremy MICHEL</td>\n",
       "      <td>0.25</td>\n",
       "      <td>NaN</td>\n",
       "      <td>1.50</td>\n",
       "      <td>NaN</td>\n",
       "      <td>0.5</td>\n",
       "      <td>NaN</td>\n",
       "      <td>0.50</td>\n",
       "      <td>When calculating logistic loss, you put predic...</td>\n",
       "      <td>2.75</td>\n",
       "    </tr>\n",
       "    <tr>\n",
       "      <th>20236021</th>\n",
       "      <td>Josh Yeung Ho PHO</td>\n",
       "      <td>0.25</td>\n",
       "      <td>NaN</td>\n",
       "      <td>1.25</td>\n",
       "      <td>The instruction required you to use the parame...</td>\n",
       "      <td>0.5</td>\n",
       "      <td>NaN</td>\n",
       "      <td>0.50</td>\n",
       "      <td>You calculated the macro-averaged F1 score; bu...</td>\n",
       "      <td>2.50</td>\n",
       "    </tr>\n",
       "    <tr>\n",
       "      <th>20236088</th>\n",
       "      <td>Gert Erik PERSSON</td>\n",
       "      <td>0.25</td>\n",
       "      <td>NaN</td>\n",
       "      <td>1.00</td>\n",
       "      <td>The instruction required you to use the parame...</td>\n",
       "      <td>0.5</td>\n",
       "      <td>NaN</td>\n",
       "      <td>0.75</td>\n",
       "      <td>NaN</td>\n",
       "      <td>2.50</td>\n",
       "    </tr>\n",
       "    <tr>\n",
       "      <th>20236090</th>\n",
       "      <td>Selim GMATI</td>\n",
       "      <td>0.25</td>\n",
       "      <td>NaN</td>\n",
       "      <td>1.25</td>\n",
       "      <td>The instruction required you to use the parame...</td>\n",
       "      <td>0.5</td>\n",
       "      <td>NaN</td>\n",
       "      <td>0.75</td>\n",
       "      <td>NaN</td>\n",
       "      <td>2.75</td>\n",
       "    </tr>\n",
       "    <tr>\n",
       "      <th>20236102</th>\n",
       "      <td>Fonzie Ferrara Peter FORSMAN</td>\n",
       "      <td>0.25</td>\n",
       "      <td>NaN</td>\n",
       "      <td>1.50</td>\n",
       "      <td>NaN</td>\n",
       "      <td>0.5</td>\n",
       "      <td>NaN</td>\n",
       "      <td>0.50</td>\n",
       "      <td>You calculated the macro-averaged F1 score; bu...</td>\n",
       "      <td>2.75</td>\n",
       "    </tr>\n",
       "  </tbody>\n",
       "</table>\n",
       "</div>"
      ],
      "text/plain": [
       "                            StudentName  10-Fold CV  \\\n",
       "StudentID                                             \n",
       "20170348                   Sihyeon Song        0.00   \n",
       "20190387                     NAYOUNG OH        0.25   \n",
       "20190511                     Jinseo Lee        0.00   \n",
       "20205642                  PATARA TRIRAT        0.25   \n",
       "20223307                    Minju Baeck        0.25   \n",
       "20223488                      Yohan Lee        0.25   \n",
       "20224492                    IN JAE SONG        0.25   \n",
       "20224794                  Junhyeok Park        0.25   \n",
       "20226497             Elena Ursula IMMEN        0.25   \n",
       "20227029                  Seungwoo Shim        0.00   \n",
       "20233301                     SUBIN PARK        0.25   \n",
       "20233344                   Hye Soo Park        0.25   \n",
       "20233629                   HEEJEONG LIM        0.25   \n",
       "20233674                    Eunki Joung        0.25   \n",
       "20235189                    Eunhwa Song        0.25   \n",
       "20235290                   Tae-Hoon Lee        0.25   \n",
       "20236005             Theo Jeremy MICHEL        0.25   \n",
       "20236021              Josh Yeung Ho PHO        0.25   \n",
       "20236088              Gert Erik PERSSON        0.25   \n",
       "20236090                    Selim GMATI        0.25   \n",
       "20236102   Fonzie Ferrara Peter FORSMAN        0.25   \n",
       "\n",
       "                                           10-Fold CV Remark  \\\n",
       "StudentID                                                      \n",
       "20170348   While correctly defining a 10-Fold CV, you con...   \n",
       "20190387                                                 NaN   \n",
       "20190511   The instruction required you to conduct a 10-f...   \n",
       "20205642                                                 NaN   \n",
       "20223307                                                 NaN   \n",
       "20223488                                                 NaN   \n",
       "20224492                                                 NaN   \n",
       "20224794                                                 NaN   \n",
       "20226497                                                 NaN   \n",
       "20227029   The instruction required you to conduct a 10-f...   \n",
       "20233301                                                 NaN   \n",
       "20233344                                                 NaN   \n",
       "20233629                                                 NaN   \n",
       "20233674                                                 NaN   \n",
       "20235189                                                 NaN   \n",
       "20235290                                                 NaN   \n",
       "20236005                                                 NaN   \n",
       "20236021                                                 NaN   \n",
       "20236088                                                 NaN   \n",
       "20236090                                                 NaN   \n",
       "20236102                                                 NaN   \n",
       "\n",
       "           Model Definition  \\\n",
       "StudentID                     \n",
       "20170348               1.50   \n",
       "20190387               1.50   \n",
       "20190511               1.25   \n",
       "20205642               1.50   \n",
       "20223307               1.50   \n",
       "20223488               1.50   \n",
       "20224492               1.25   \n",
       "20224794               1.50   \n",
       "20226497               1.50   \n",
       "20227029               1.50   \n",
       "20233301               1.00   \n",
       "20233344               1.25   \n",
       "20233629               1.50   \n",
       "20233674               1.50   \n",
       "20235189               1.50   \n",
       "20235290               1.50   \n",
       "20236005               1.50   \n",
       "20236021               1.25   \n",
       "20236088               1.00   \n",
       "20236090               1.25   \n",
       "20236102               1.50   \n",
       "\n",
       "                                     Model Definition Remark  \\\n",
       "StudentID                                                      \n",
       "20170348                                                 NaN   \n",
       "20190387                                                 NaN   \n",
       "20190511   The instruction required you to use the parame...   \n",
       "20205642                                                 NaN   \n",
       "20223307                                                 NaN   \n",
       "20223488                                                 NaN   \n",
       "20224492   The instruction required you to use the parame...   \n",
       "20224794                                                 NaN   \n",
       "20226497                                                 NaN   \n",
       "20227029                                                 NaN   \n",
       "20233301   The instruction required you to build 3 hidden...   \n",
       "20233344   You specified an additional layer with two per...   \n",
       "20233629                                                 NaN   \n",
       "20233674                                                 NaN   \n",
       "20235189                                                 NaN   \n",
       "20235290                                                 NaN   \n",
       "20236005                                                 NaN   \n",
       "20236021   The instruction required you to use the parame...   \n",
       "20236088   The instruction required you to use the parame...   \n",
       "20236090   The instruction required you to use the parame...   \n",
       "20236102                                                 NaN   \n",
       "\n",
       "           Loss and Optimizer  Loss and Optimizer Remark  Perf. Measure  \\\n",
       "StudentID                                                                 \n",
       "20170348                  0.5                        NaN           0.25   \n",
       "20190387                  0.5                        NaN           0.75   \n",
       "20190511                  0.5                        NaN           0.75   \n",
       "20205642                  0.5                        NaN           0.75   \n",
       "20223307                  0.5                        NaN           0.75   \n",
       "20223488                  0.5                        NaN           0.50   \n",
       "20224492                  0.5                        NaN           0.50   \n",
       "20224794                  0.5                        NaN           0.75   \n",
       "20226497                  0.5                        NaN           0.75   \n",
       "20227029                  0.5                        NaN           0.50   \n",
       "20233301                  0.5                        NaN           0.75   \n",
       "20233344                  0.5                        NaN           0.75   \n",
       "20233629                  0.5                        NaN           0.50   \n",
       "20233674                  0.5                        NaN           0.50   \n",
       "20235189                  0.5                        NaN           0.50   \n",
       "20235290                  0.5                        NaN           0.50   \n",
       "20236005                  0.5                        NaN           0.50   \n",
       "20236021                  0.5                        NaN           0.50   \n",
       "20236088                  0.5                        NaN           0.75   \n",
       "20236090                  0.5                        NaN           0.75   \n",
       "20236102                  0.5                        NaN           0.50   \n",
       "\n",
       "                                        Perf. Measure Remark   Sum  \n",
       "StudentID                                                           \n",
       "20170348   When calculating logistic loss, you put predic...  2.25  \n",
       "20190387                                                 NaN  3.00  \n",
       "20190511                                                 NaN  2.50  \n",
       "20205642                                                 NaN  3.00  \n",
       "20223307                                                 NaN  3.00  \n",
       "20223488   When calculating logistic loss, you put predic...  2.75  \n",
       "20224492   When calculating logistic loss, you put predic...  2.50  \n",
       "20224794                                                 NaN  3.00  \n",
       "20226497                                                 NaN  3.00  \n",
       "20227029   You calculated the macro-averaged F1 score; bu...  2.50  \n",
       "20233301                                                 NaN  2.50  \n",
       "20233344                                                 NaN  2.75  \n",
       "20233629   When calculating logistic loss, you put predic...  2.75  \n",
       "20233674   When calculating logistic loss, you put predic...  2.75  \n",
       "20235189   When calculating logistic loss, you put predic...  2.75  \n",
       "20235290   When calculating logistic loss, you put predic...  2.75  \n",
       "20236005   When calculating logistic loss, you put predic...  2.75  \n",
       "20236021   You calculated the macro-averaged F1 score; bu...  2.50  \n",
       "20236088                                                 NaN  2.50  \n",
       "20236090                                                 NaN  2.75  \n",
       "20236102   You calculated the macro-averaged F1 score; bu...  2.75  "
      ]
     },
     "execution_count": 27,
     "metadata": {},
     "output_type": "execute_result"
    }
   ],
   "source": [
    "d"
   ]
  },
  {
   "cell_type": "code",
   "execution_count": 7,
   "id": "547d216d-7fa5-478d-a38b-bf4ab1f876e6",
   "metadata": {},
   "outputs": [
    {
     "name": "stdout",
     "output_type": "stream",
     "text": [
      "ay_kim\n",
      "baewoohyeok\n",
      "brendonhp\n",
      "caterina1118\n",
      "champion1824\n",
      "gykim622\n",
      "hellokts\n",
      "hy.jung\n",
      "in-yi.kim\n",
      "jimin_koo\n",
      "jooyoungoh\n",
      "juheekang\n",
      "keums\n",
      "kjun255\n",
      "ksjldj\n",
      "leejaymin\n",
      "miykwon\n",
      "mongeda\n",
      "myaengsy\n",
      "only826kaist\n",
      "powyyy\n",
      "sidlilac\n",
      "sungyunz\n",
      "taeyanglee\n",
      "thfud0721\n",
      "uhsa00\n",
      "yangho.choi\n",
      "yesol1017\n",
      "yongkeolshin\n"
     ]
    }
   ],
   "source": [
    "import hashlib\n",
    "import os\n",
    "import shutil\n",
    "\n",
    "\n",
    "for i in os.listdir('./playground'):\n",
    "    if not i.endswith('.json'):\n",
    "        continue\n",
    "    \n",
    "    enc = hashlib.md5()\n",
    "    name = i[:i.index('.json')]\n",
    "    print(name)\n",
    "    enc.update(name.encode('utf-8'))\n",
    "    enc_name = enc.hexdigest()\n",
    "    shutil.copy(os.path.join('./playground', i), os.path.join('./playground', 'proc', f'{enc_name}.json'))\n",
    "    "
   ]
  },
  {
   "cell_type": "code",
   "execution_count": 4,
   "id": "ebc0ad80-bbc5-4e16-8693-42813c67060e",
   "metadata": {},
   "outputs": [
    {
     "data": {
      "text/plain": [
       "array([1])"
      ]
     },
     "execution_count": 4,
     "metadata": {},
     "output_type": "execute_result"
    }
   ],
   "source": [
    "import numpy as np\n",
    "\n",
    "a = np.array([1, 2, 3, 4, 5])\n",
    "a[np.nonzero(a == 1)]"
   ]
  },
  {
   "cell_type": "code",
   "execution_count": 41,
   "id": "d66f1da9-d8f9-4b27-9187-7863be67a790",
   "metadata": {},
   "outputs": [],
   "source": [
    "beta_0 = lambda r0, r1: - np.log(999) * (r0 + r1) / (r1 - r0)\n",
    "beta_1 = lambda r0, r1: 2 * np.log(999) / (r1 - r0)\n",
    "exp = lambda r0, r1, r: 1 / (1 + np.exp(-( beta_1(r0, r1) * r + beta_0(r0, r1) )))"
   ]
  },
  {
   "cell_type": "code",
   "execution_count": 57,
   "id": "c498ad9c-e6c7-47db-b3b4-0f6cf3a68eb1",
   "metadata": {},
   "outputs": [
    {
     "data": {
      "text/plain": [
       "0.9989999999999999"
      ]
     },
     "execution_count": 57,
     "metadata": {},
     "output_type": "execute_result"
    }
   ],
   "source": [
    "exp(10, 2, 2)"
   ]
  },
  {
   "cell_type": "code",
   "execution_count": 59,
   "id": "d4dae990-33ab-49af-975e-5bdce0866fe6",
   "metadata": {},
   "outputs": [],
   "source": [
    "lin = lambda l0, l1, r0, r1, r: l0 + (r - r0) * (l1 - l0) / (r1 - r0)"
   ]
  },
  {
   "cell_type": "code",
   "execution_count": 77,
   "id": "2ffcf20d-269f-42a2-9e4e-b1d061b60b0b",
   "metadata": {},
   "outputs": [
    {
     "data": {
      "text/plain": [
       "2"
      ]
     },
     "execution_count": 77,
     "metadata": {},
     "output_type": "execute_result"
    }
   ],
   "source": [
    "a = np.array([5, 10, 15])\n",
    "b = ['A', 'B', 'C', 'D']\n",
    "\n",
    "np.digitize(14, bins=a)\n"
   ]
  },
  {
   "cell_type": "code",
   "execution_count": 83,
   "id": "731c3920-fb20-46b5-93f8-bc3d9cd6091a",
   "metadata": {},
   "outputs": [
    {
     "ename": "AttributeError",
     "evalue": "module 'asyncio' has no attribute 'TaskGroup'",
     "output_type": "error",
     "traceback": [
      "\u001b[0;31m---------------------------------------------------------------------------\u001b[0m",
      "\u001b[0;31mAttributeError\u001b[0m                            Traceback (most recent call last)",
      "Cell \u001b[0;32mIn[83], line 4\u001b[0m\n\u001b[1;32m      1\u001b[0m \u001b[38;5;28;01mimport\u001b[39;00m \u001b[38;5;21;01masyncio\u001b[39;00m\n\u001b[0;32m----> 4\u001b[0m \u001b[38;5;28;01masync\u001b[39;00m \u001b[38;5;28;01mwith\u001b[39;00m asyncio\u001b[38;5;241m.\u001b[39mTaskGroup():\n\u001b[1;32m      5\u001b[0m     \u001b[38;5;28;01mpass\u001b[39;00m\n",
      "\u001b[0;31mAttributeError\u001b[0m: module 'asyncio' has no attribute 'TaskGroup'"
     ]
    }
   ],
   "source": [
    "import asyncio\n",
    "\n"
   ]
  }
 ],
 "metadata": {
  "kernelspec": {
   "display_name": "Python 3 (ipykernel)",
   "language": "python",
   "name": "python3"
  },
  "language_info": {
   "codemirror_mode": {
    "name": "ipython",
    "version": 3
   },
   "file_extension": ".py",
   "mimetype": "text/x-python",
   "name": "python",
   "nbconvert_exporter": "python",
   "pygments_lexer": "ipython3",
   "version": "3.10.13"
  }
 },
 "nbformat": 4,
 "nbformat_minor": 5
}
